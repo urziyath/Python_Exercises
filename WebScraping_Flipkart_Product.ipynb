{
 "cells": [
  {
   "cell_type": "markdown",
   "metadata": {},
   "source": [
    "# WebScraping"
   ]
  },
  {
   "cell_type": "code",
   "execution_count": 1,
   "metadata": {},
   "outputs": [],
   "source": [
    "#importing essential libraries for web scraping\n",
    "from bs4 import BeautifulSoup\n",
    "from urllib.request import urlopen as uReq"
   ]
  },
  {
   "cell_type": "code",
   "execution_count": 2,
   "metadata": {},
   "outputs": [],
   "source": [
    "required url for scraping\n",
    "my_url = 'https://www.flipkart.com/search?q=iphone&sid=tyy%2C4io&as=on&as-show=on&otracker=AS_QueryStore_OrganicAutoSuggest_1_6_sc_na_na&otracker1=AS_QueryStore_OrganicAutoSuggest_1_6_sc_na_na&as-pos=1&as-type=RECENT&suggestionId=iphone%7CMobiles&requestId=e5c32a7f-0846-45d4-8a57-f5d23820fdd3&as-backfill=on'\n",
    "\n",
    "uClient = uReq(my_url)\n",
    "page_html = uClient.read()\n",
    "page_soup = BeautifulSoup(page_html,'html.parser')"
   ]
  },
  {
   "cell_type": "code",
   "execution_count": 3,
   "metadata": {},
   "outputs": [
    {
     "name": "stdout",
     "output_type": "stream",
     "text": [
      "24\n"
     ]
    }
   ],
   "source": [
    "containers = page_soup.findAll('div', {'class' :\"_1-2Iqu row\"})\n",
    "print(len(containers))\n",
    "#print(BeautifulSoup.prettify(containers[0]))"
   ]
  },
  {
   "cell_type": "code",
   "execution_count": 4,
   "metadata": {},
   "outputs": [
    {
     "name": "stdout",
     "output_type": "stream",
     "text": [
      "₹42,500\n"
     ]
    }
   ],
   "source": [
    "container = containers[0]\n",
    "price = container.findAll('div',{'class' : \"_1vC4OE _2rQ-NK\"})\n",
    "print(price[0].text)\n",
    "#price.replace('₹','Rs')"
   ]
  },
  {
   "cell_type": "code",
   "execution_count": 5,
   "metadata": {},
   "outputs": [
    {
     "name": "stdout",
     "output_type": "stream",
     "text": [
      "Apple iPhone SE (White, 64 GB)\n"
     ]
    }
   ],
   "source": [
    "product_name = container.findAll('div',{'class': '_3wU53n'})\n",
    "print(product_name[0].text)\n",
    "                                 "
   ]
  },
  {
   "cell_type": "code",
   "execution_count": 6,
   "metadata": {},
   "outputs": [
    {
     "name": "stdout",
     "output_type": "stream",
     "text": [
      "4.6\n"
     ]
    }
   ],
   "source": [
    "ratings = container.findAll('div',{'class' : \"hGSR34\"})\n",
    "print(ratings[0].text)"
   ]
  },
  {
   "cell_type": "code",
   "execution_count": 11,
   "metadata": {},
   "outputs": [
    {
     "data": {
      "text/plain": [
       "27"
      ]
     },
     "execution_count": 11,
     "metadata": {},
     "output_type": "execute_result"
    }
   ],
   "source": [
    "filename ='Product_details.csv'\n",
    "f = open(filename, 'w', encoding=\"utf-8\")\n",
    "\n",
    "headers = \"Product_Name,Price,Ratings\\n\"\n",
    "f.write(headers)"
   ]
  },
  {
   "cell_type": "code",
   "execution_count": 12,
   "metadata": {},
   "outputs": [
    {
     "name": "stdout",
     "output_type": "stream",
     "text": [
      "Apple iPhone SE (White| 64 GB),Rs.42500,4.6\n",
      "\n",
      "Apple iPhone SE (Black| 64 GB),Rs.42500,4.6\n",
      "\n",
      "Apple iPhone SE (Red| 64 GB),Rs.42500,4.6\n",
      "\n",
      "Apple iPhone SE (White| 128 GB),Rs.47800,4.6\n",
      "\n",
      "Apple iPhone 7 (Black| 32 GB),Rs.29499,4.5\n",
      "\n",
      "Apple iPhone 7 Plus (Black| 32 GB),Rs.36999,4.5\n",
      "\n",
      "Apple iPhone SE (Black| 128 GB),Rs.47800,4.6\n",
      "\n",
      "Apple iPhone 7 Plus (Rose Gold| 32 GB),Rs.36999,4.5\n",
      "\n",
      "Apple iPhone XR (Black| 128 GB),Rs.57800,4.6\n",
      "\n",
      "Apple iPhone XS (Gold| 64 GB),Rs.62999,4.7\n",
      "\n",
      "Apple iPhone XS (Space Grey| 64 GB),Rs.62999,4.7\n",
      "\n",
      "Apple iPhone SE (Red| 128 GB),Rs.47800,4.6\n",
      "\n",
      "Apple iPhone 11 (Black| 128 GB),Rs.73600,4.7\n",
      "\n",
      "Apple iPhone 7 Plus (Gold| 32 GB),Rs.36999,4.5\n",
      "\n",
      "Apple iPhone 11 (Black| 64 GB),Rs.68300,4.7\n",
      "\n",
      "Apple iPhone 11 (Purple| 64 GB),Rs.68300,4.7\n",
      "\n",
      "Apple iPhone 11 (White| 128 GB),Rs.73600,4.7\n",
      "\n",
      "Apple iPhone XR (White| 128 GB),Rs.57800,4.6\n",
      "\n",
      "Apple iPhone XS (Silver| 64 GB),Rs.62999,4.7\n",
      "\n",
      "Apple iPhone 11 (White| 64 GB),Rs.68300,4.7\n",
      "\n",
      "Apple iPhone 11 (Purple| 128 GB),Rs.73600,4.7\n",
      "\n",
      "Apple iPhone XR (Coral| 128 GB),Rs.57800,4.6\n",
      "\n",
      "Apple iPhone 11 (Red| 64 GB),Rs.68300,4.7\n",
      "\n",
      "Apple iPhone 11 (Green| 128 GB),Rs.73600,4.7\n",
      "\n"
     ]
    }
   ],
   "source": [
    "for container in containers:\n",
    "    product_name = container.findAll('div',{'class': '_3wU53n'})\n",
    "    product = product_name[0].text\n",
    "    \n",
    "    price_container = container.findAll('div',{'class' : \"_1vC4OE _2rQ-NK\"})\n",
    "    price = price_container[0].text\n",
    "    \n",
    "    ratings_container = container.findAll('div',{'class' : \"hGSR34\"})\n",
    "    ratings = ratings_container[0].text\n",
    "    \n",
    "    #print(f'Product NAme = {product}')\n",
    "    #print(f\"Price = {price}\")\n",
    "    #print(f\"Ratings = {ratings}\\n\")\n",
    "    \n",
    "    #string parsing\n",
    "    split_price = price.split(' ')\n",
    "    finalprice = split_price[0]\n",
    "    final_price = finalprice.replace('₹','Rs.')\n",
    "    \n",
    "    \n",
    "    split_rating = ratings.split(\" \")\n",
    "    final_rating = split_rating[0]\n",
    "    \n",
    "    \n",
    "    print(product.replace(\",\",\"|\") + \",\" + final_price.replace(',','') + \",\" + final_rating + '\\n')\n",
    "    f.write(product.replace(\",\",\"|\") + \",\" + final_price.replace(',','') + \",\" + final_rating + '\\n')\n",
    "\n",
    "f.close()\n",
    "    \n",
    "    \n",
    "    \n",
    "    \n",
    "    \n"
   ]
  },
  {
   "cell_type": "code",
   "execution_count": null,
   "metadata": {},
   "outputs": [],
   "source": [
    "\n"
   ]
  },
  {
   "cell_type": "code",
   "execution_count": null,
   "metadata": {},
   "outputs": [],
   "source": []
  }
 ],
 "metadata": {
  "kernelspec": {
   "display_name": "Python 3",
   "language": "python",
   "name": "python3"
  },
  "language_info": {
   "codemirror_mode": {
    "name": "ipython",
    "version": 3
   },
   "file_extension": ".py",
   "mimetype": "text/x-python",
   "name": "python",
   "nbconvert_exporter": "python",
   "pygments_lexer": "ipython3",
   "version": "3.7.6"
  }
 },
 "nbformat": 4,
 "nbformat_minor": 4
}
